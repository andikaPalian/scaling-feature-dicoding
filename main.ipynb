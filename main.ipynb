{
 "cells": [
  {
   "cell_type": "code",
   "execution_count": 1,
   "metadata": {},
   "outputs": [],
   "source": [
    "from sklearn.preprocessing import MinMaxScaler, StandardScaler"
   ]
  },
  {
   "cell_type": "code",
   "execution_count": 2,
   "metadata": {},
   "outputs": [],
   "source": [
    "# Contoh data\n",
    "data = [[10], [3], [30], [40], [50]]"
   ]
  },
  {
   "cell_type": "code",
   "execution_count": 3,
   "metadata": {},
   "outputs": [
    {
     "name": "stdout",
     "output_type": "stream",
     "text": [
      "Min-Max Scaling:\n",
      " [[0.14893617]\n",
      " [0.        ]\n",
      " [0.57446809]\n",
      " [0.78723404]\n",
      " [1.        ]]\n"
     ]
    }
   ],
   "source": [
    "# Min-Max Scaling\n",
    "min_max_scaler = MinMaxScaler()\n",
    "scaled_min_max = min_max_scaler.fit_transform(data)\n",
    "print(\"Min-Max Scaling:\\n\", scaled_min_max)"
   ]
  },
  {
   "cell_type": "code",
   "execution_count": 4,
   "metadata": {},
   "outputs": [
    {
     "name": "stdout",
     "output_type": "stream",
     "text": [
      "Standarization:\n",
      " [[-0.93643439]\n",
      " [-1.33131636]\n",
      " [ 0.19179982]\n",
      " [ 0.75591692]\n",
      " [ 1.32003402]]\n"
     ]
    }
   ],
   "source": [
    "# Standardization\n",
    "standard_scaler = StandardScaler()\n",
    "scaled_standard = standard_scaler.fit_transform(data)\n",
    "print(\"Standarization:\\n\", scaled_standard)"
   ]
  },
  {
   "cell_type": "code",
   "execution_count": null,
   "metadata": {},
   "outputs": [],
   "source": []
  }
 ],
 "metadata": {
  "kernelspec": {
   "display_name": "base",
   "language": "python",
   "name": "python3"
  },
  "language_info": {
   "codemirror_mode": {
    "name": "ipython",
    "version": 3
   },
   "file_extension": ".py",
   "mimetype": "text/x-python",
   "name": "python",
   "nbconvert_exporter": "python",
   "pygments_lexer": "ipython3",
   "version": "3.12.7"
  }
 },
 "nbformat": 4,
 "nbformat_minor": 2
}
